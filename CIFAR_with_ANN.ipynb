{
 "cells": [
  {
   "cell_type": "code",
   "execution_count": 1,
   "metadata": {},
   "outputs": [],
   "source": [
    "import pandas as pd\n",
    "import math\n",
    "import tensorflow as tf\n",
    "from tensorflow import keras\n",
    "from tensorflow.keras.layers import Dense\n",
    "from tensorflow.keras.models import Sequential\n",
    "from tensorflow.keras.layers import Dropout\n",
    "from tensorflow.keras.preprocessing.image import ImageDataGenerator\n",
    "import numpy as np\n",
    "import matplotlib.pyplot as plt"
   ]
  },
  {
   "cell_type": "code",
   "execution_count": 2,
   "metadata": {},
   "outputs": [],
   "source": [
    "(X_train , Y_train ),(X_test , Y_test) = keras.datasets.cifar10.load_data()\n"
   ]
  },
  {
   "cell_type": "code",
   "execution_count": 3,
   "metadata": {},
   "outputs": [
    {
     "data": {
      "text/plain": [
       "([], <a list of 0 Text major ticklabel objects>)"
      ]
     },
     "execution_count": 3,
     "metadata": {},
     "output_type": "execute_result"
    },
    {
     "data": {
      "image/png": "[encoded data removed]",
      "text/plain": [
       "<Figure size 432x288 with 1 Axes>"
      ]
     },
     "metadata": {},
     "output_type": "display_data"
    }
   ],
   "source": [
    "plt.imshow(X_train[1])  \n",
    "plt.title(\"training label is \" + str(Y_train[1]))\n",
    "plt.xticks([])\n",
    "plt.yticks([])"
   ]
  },
  {
   "cell_type": "code",
   "execution_count": 4,
   "metadata": {
    "scrolled": true
   },
   "outputs": [],
   "source": [
    "X_train = X_train.astype('float32')\n",
    "X_test = X_test.astype('float32')\n",
    "\n",
    "X_train = X_train / 255\n",
    "X_test = X_test / 255"
   ]
  },
  {
   "cell_type": "code",
   "execution_count": 5,
   "metadata": {},
   "outputs": [],
   "source": [
    "num_classes = 10 \n",
    "Y_train = keras.utils.to_categorical(Y_train,num_classes)\n",
    "Y_test = keras.utils.to_categorical(Y_test,num_classes)\n"
   ]
  },
  {
   "cell_type": "code",
   "execution_count": 6,
   "metadata": {},
   "outputs": [
    {
     "name": "stdout",
     "output_type": "stream",
     "text": [
      "Model: \"sequential\"\n",
      "_________________________________________________________________\n",
      "Layer (type)                 Output Shape              Param #   \n",
      "=================================================================\n",
      "flatten (Flatten)            (None, 3072)              0         \n",
      "_________________________________________________________________\n",
      "dense (Dense)                (None, 1024)              3146752   \n",
      "_________________________________________________________________\n",
      "dropout (Dropout)            (None, 1024)              0         \n",
      "_________________________________________________________________\n",
      "dense_1 (Dense)              (None, 512)               524800    \n",
      "_________________________________________________________________\n",
      "dense_2 (Dense)              (None, 128)               65664     \n",
      "_________________________________________________________________\n",
      "dense_3 (Dense)              (None, 10)                1290      \n",
      "=================================================================\n",
      "Total params: 3,738,506\n",
      "Trainable params: 3,738,506\n",
      "Non-trainable params: 0\n",
      "_________________________________________________________________\n"
     ]
    }
   ],
   "source": [
    "model = Sequential()\n",
    "model.add(keras.layers.Flatten(input_shape=[32, 32, 3]))\n",
    "model.add(Dense(units=1024, activation='relu'))\n",
    "model.add(Dropout(0.2))\n",
    "model.add(Dense(units=512, activation='relu'))\n",
    "model.add(Dense(units=128, activation='relu'))\n",
    "model.add(Dense(units=num_classes, activation='softmax'))\n",
    "model.summary()"
   ]
  },
  {
   "cell_type": "code",
   "execution_count": 7,
   "metadata": {},
   "outputs": [],
   "source": [
    "datagen = ImageDataGenerator( \n",
    "         rotation_range=15,\n",
    "    width_shift_range=0.1,\n",
    "    height_shift_range=0.1,\n",
    "    horizontal_flip=True) \n",
    "datagen.fit(X_train)"
   ]
  },
  {
   "cell_type": "code",
   "execution_count": 8,
   "metadata": {},
   "outputs": [],
   "source": [
    "model.compile(\n",
    "\n",
    "  optimizer='sgd',\n",
    "\n",
    "  loss='categorical_crossentropy',\n",
    "\n",
    "  metrics=['accuracy']\n",
    "\n",
    ")\n",
    "X_valid, X_train = X_train[:5000], X_train[5000:]\n",
    "Y_valid, Y_train = Y_train[:5000], Y_train[5000:]\n",
    "\n"
   ]
  },
  {
   "cell_type": "code",
   "execution_count": 19,
   "metadata": {},
   "outputs": [
    {
     "name": "stdout",
     "output_type": "stream",
     "text": [
      "Epoch 1/50\n",
      "351/351 [==============================] - 38s 109ms/step - loss: 0.9738 - accuracy: 0.6508 - val_loss: 0.9965 - val_accuracy: 0.6558\n",
      "Epoch 2/50\n",
      "351/351 [==============================] - 37s 105ms/step - loss: 0.9773 - accuracy: 0.6513 - val_loss: 0.9971 - val_accuracy: 0.6550\n",
      "Epoch 3/50\n",
      "351/351 [==============================] - 37s 107ms/step - loss: 0.9722 - accuracy: 0.6531 - val_loss: 1.0116 - val_accuracy: 0.6486\n",
      "Epoch 4/50\n",
      "351/351 [==============================] - 38s 108ms/step - loss: 0.9699 - accuracy: 0.6532 - val_loss: 1.0155 - val_accuracy: 0.6496\n",
      "Epoch 5/50\n",
      "351/351 [==============================] - 38s 107ms/step - loss: 0.9701 - accuracy: 0.6541 - val_loss: 1.0072 - val_accuracy: 0.6490\n",
      "Epoch 6/50\n",
      "351/351 [==============================] - 38s 109ms/step - loss: 0.9686 - accuracy: 0.6541 - val_loss: 1.0074 - val_accuracy: 0.6542\n",
      "Epoch 7/50\n",
      "351/351 [==============================] - 37s 106ms/step - loss: 0.9705 - accuracy: 0.6540 - val_loss: 0.9937 - val_accuracy: 0.6608\n",
      "Epoch 8/50\n",
      "351/351 [==============================] - 40s 113ms/step - loss: 0.9642 - accuracy: 0.6538 - val_loss: 0.9915 - val_accuracy: 0.6616\n",
      "Epoch 9/50\n",
      "351/351 [==============================] - 38s 109ms/step - loss: 0.9695 - accuracy: 0.6530 - val_loss: 0.9970 - val_accuracy: 0.6592\n",
      "Epoch 10/50\n",
      "351/351 [==============================] - 39s 110ms/step - loss: 0.9717 - accuracy: 0.6541 - val_loss: 1.0002 - val_accuracy: 0.6570\n",
      "Epoch 11/50\n",
      "351/351 [==============================] - 41s 116ms/step - loss: 0.9655 - accuracy: 0.6537 - val_loss: 1.0188 - val_accuracy: 0.6464\n",
      "Epoch 12/50\n",
      "351/351 [==============================] - 39s 112ms/step - loss: 0.9661 - accuracy: 0.6556 - val_loss: 1.0040 - val_accuracy: 0.6582\n",
      "Epoch 13/50\n",
      "351/351 [==============================] - 40s 113ms/step - loss: 0.9603 - accuracy: 0.6572 - val_loss: 1.0030 - val_accuracy: 0.6582\n",
      "Epoch 14/50\n",
      "351/351 [==============================] - 39s 111ms/step - loss: 0.9609 - accuracy: 0.6589 - val_loss: 1.0029 - val_accuracy: 0.6542\n",
      "Epoch 15/50\n",
      "351/351 [==============================] - 39s 110ms/step - loss: 0.9632 - accuracy: 0.6570 - val_loss: 1.0035 - val_accuracy: 0.6540\n",
      "Epoch 16/50\n",
      "351/351 [==============================] - 40s 113ms/step - loss: 0.9646 - accuracy: 0.6570 - val_loss: 1.0248 - val_accuracy: 0.6488\n",
      "Epoch 17/50\n",
      "351/351 [==============================] - 40s 115ms/step - loss: 0.9572 - accuracy: 0.6562 - val_loss: 1.0024 - val_accuracy: 0.6518\n",
      "Epoch 18/50\n",
      "351/351 [==============================] - 40s 113ms/step - loss: 0.9600 - accuracy: 0.6568 - val_loss: 1.0014 - val_accuracy: 0.6550\n",
      "Epoch 19/50\n",
      "351/351 [==============================] - 40s 114ms/step - loss: 0.9626 - accuracy: 0.6548 - val_loss: 1.0095 - val_accuracy: 0.6572\n",
      "Epoch 20/50\n",
      "351/351 [==============================] - 42s 119ms/step - loss: 0.9638 - accuracy: 0.6548 - val_loss: 1.0122 - val_accuracy: 0.6494\n",
      "Epoch 21/50\n",
      "351/351 [==============================] - 41s 117ms/step - loss: 0.9580 - accuracy: 0.6554 - val_loss: 0.9875 - val_accuracy: 0.6622\n",
      "Epoch 22/50\n",
      "351/351 [==============================] - 39s 111ms/step - loss: 0.9609 - accuracy: 0.6566 - val_loss: 0.9982 - val_accuracy: 0.6544\n",
      "Epoch 23/50\n",
      "351/351 [==============================] - 40s 113ms/step - loss: 0.9603 - accuracy: 0.6576 - val_loss: 1.0042 - val_accuracy: 0.6526\n",
      "Epoch 24/50\n",
      "351/351 [==============================] - 40s 113ms/step - loss: 0.9558 - accuracy: 0.6574 - val_loss: 0.9911 - val_accuracy: 0.6584\n",
      "Epoch 25/50\n",
      "351/351 [==============================] - 41s 115ms/step - loss: 0.9535 - accuracy: 0.6599 - val_loss: 0.9926 - val_accuracy: 0.6562\n",
      "Epoch 26/50\n",
      "351/351 [==============================] - 39s 111ms/step - loss: 0.9562 - accuracy: 0.6583 - val_loss: 1.0002 - val_accuracy: 0.6562\n",
      "Epoch 27/50\n",
      "351/351 [==============================] - 41s 116ms/step - loss: 0.9487 - accuracy: 0.6606 - val_loss: 0.9860 - val_accuracy: 0.6624\n",
      "Epoch 28/50\n",
      "351/351 [==============================] - 40s 113ms/step - loss: 0.9516 - accuracy: 0.6605 - val_loss: 0.9863 - val_accuracy: 0.6604\n",
      "Epoch 29/50\n",
      "351/351 [==============================] - 39s 112ms/step - loss: 0.9561 - accuracy: 0.6601 - val_loss: 0.9916 - val_accuracy: 0.6598\n",
      "Epoch 30/50\n",
      "351/351 [==============================] - 39s 110ms/step - loss: 0.9483 - accuracy: 0.6598 - val_loss: 0.9966 - val_accuracy: 0.6534\n",
      "Epoch 31/50\n",
      "351/351 [==============================] - 38s 109ms/step - loss: 0.9554 - accuracy: 0.6611 - val_loss: 1.0093 - val_accuracy: 0.6500\n",
      "Epoch 32/50\n",
      "351/351 [==============================] - 39s 112ms/step - loss: 0.9478 - accuracy: 0.6606 - val_loss: 1.0031 - val_accuracy: 0.6610\n",
      "Epoch 33/50\n",
      "351/351 [==============================] - 39s 110ms/step - loss: 0.9510 - accuracy: 0.6592 - val_loss: 0.9968 - val_accuracy: 0.6538\n",
      "Epoch 34/50\n",
      "351/351 [==============================] - 39s 112ms/step - loss: 0.9488 - accuracy: 0.6599 - val_loss: 1.0104 - val_accuracy: 0.6482\n",
      "Epoch 35/50\n",
      "351/351 [==============================] - 41s 116ms/step - loss: 0.9433 - accuracy: 0.6607 - val_loss: 1.0023 - val_accuracy: 0.6586\n",
      "Epoch 36/50\n",
      "351/351 [==============================] - 39s 112ms/step - loss: 0.9419 - accuracy: 0.6647 - val_loss: 0.9910 - val_accuracy: 0.6592\n",
      "Epoch 37/50\n",
      "351/351 [==============================] - 40s 114ms/step - loss: 0.9532 - accuracy: 0.6595 - val_loss: 0.9966 - val_accuracy: 0.6546\n",
      "Epoch 38/50\n",
      "351/351 [==============================] - 39s 112ms/step - loss: 0.9478 - accuracy: 0.6618 - val_loss: 1.0088 - val_accuracy: 0.6564\n",
      "Epoch 39/50\n",
      "351/351 [==============================] - 40s 113ms/step - loss: 0.9441 - accuracy: 0.6609 - val_loss: 0.9893 - val_accuracy: 0.6554\n",
      "Epoch 40/50\n",
      "351/351 [==============================] - 38s 108ms/step - loss: 0.9433 - accuracy: 0.6639 - val_loss: 1.0137 - val_accuracy: 0.6480\n",
      "Epoch 41/50\n",
      "351/351 [==============================] - 38s 108ms/step - loss: 0.9450 - accuracy: 0.6645 - val_loss: 0.9956 - val_accuracy: 0.6578\n",
      "Epoch 42/50\n",
      "351/351 [==============================] - 39s 112ms/step - loss: 0.9429 - accuracy: 0.6636 - val_loss: 0.9858 - val_accuracy: 0.6588\n",
      "Epoch 43/50\n",
      "351/351 [==============================] - 40s 114ms/step - loss: 0.9396 - accuracy: 0.6662 - val_loss: 0.9943 - val_accuracy: 0.6604\n",
      "Epoch 44/50\n",
      "351/351 [==============================] - 39s 112ms/step - loss: 0.9332 - accuracy: 0.6677 - val_loss: 1.0070 - val_accuracy: 0.6580\n",
      "Epoch 45/50\n",
      "351/351 [==============================] - 39s 110ms/step - loss: 0.9463 - accuracy: 0.6646 - val_loss: 1.0067 - val_accuracy: 0.6572\n",
      "Epoch 46/50\n",
      "351/351 [==============================] - 39s 110ms/step - loss: 0.9442 - accuracy: 0.6621 - val_loss: 0.9905 - val_accuracy: 0.6522\n",
      "Epoch 47/50\n",
      "351/351 [==============================] - 40s 114ms/step - loss: 0.9442 - accuracy: 0.6610 - val_loss: 0.9971 - val_accuracy: 0.6546\n",
      "Epoch 48/50\n",
      "351/351 [==============================] - 40s 113ms/step - loss: 0.9408 - accuracy: 0.6623 - val_loss: 0.9959 - val_accuracy: 0.6580\n",
      "Epoch 49/50\n",
      "351/351 [==============================] - 41s 116ms/step - loss: 0.9437 - accuracy: 0.6632 - val_loss: 0.9841 - val_accuracy: 0.6642\n",
      "Epoch 50/50\n",
      "351/351 [==============================] - 38s 109ms/step - loss: 0.9446 - accuracy: 0.6615 - val_loss: 0.9945 - val_accuracy: 0.6570\n"
     ]
    }
   ],
   "source": [
    "r = model.fit_generator(datagen.flow(X_train, Y_train, batch_size=128),\\\n",
    "                    steps_per_epoch=X_train.shape[0] // 128,epochs=50,\\\n",
    "                    verbose=1,validation_data=(X_valid,Y_valid))\n"
   ]
  },
  {
   "cell_type": "code",
   "execution_count": 20,
   "metadata": {},
   "outputs": [
    {
     "data": {
      "text/plain": [
       "Text(0.5, 1.0, 'Accuracy evolution')"
      ]
     },
     "execution_count": 20,
     "metadata": {},
     "output_type": "execute_result"
    },
    {
     "data": {
      "image/png": "[encoded data removed]",
      "text/plain": [
       "<Figure size 432x288 with 1 Axes>"
      ]
     },
     "metadata": {
      "needs_background": "light"
     },
     "output_type": "display_data"
    }
   ],
   "source": [
    "plt.plot(r.history['accuracy'], label='accuracy')\n",
    "plt.plot(r.history['val_accuracy'], label='val_accuracy')\n",
    "plt.legend()\n",
    "plt.title('Accuracy evolution')\n"
   ]
  },
  {
   "cell_type": "code",
   "execution_count": 21,
   "metadata": {},
   "outputs": [
    {
     "name": "stdout",
     "output_type": "stream",
     "text": [
      "313/313 - 2s - loss: 1.0383 - accuracy: 0.6407\n"
     ]
    }
   ],
   "source": [
    "test_loss, test_acc = model.evaluate(X_test,  Y_test, verbose=2)"
   ]
  },
  {
   "cell_type": "code",
   "execution_count": 31,
   "metadata": {},
   "outputs": [],
   "source": [
    "X_pred = X_test[0].reshape(1,3072)"
   ]
  },
  {
   "cell_type": "code",
   "execution_count": 32,
   "metadata": {},
   "outputs": [
    {
     "data": {
      "text/plain": [
       "array([[3.3760630e-03, 1.6296368e-02, 2.7842209e-02, 5.4901963e-01,\n",
       "        1.5505522e-01, 1.3443111e-01, 1.7838420e-04, 3.6694114e-03,\n",
       "        8.7305196e-02, 2.2826478e-02]], dtype=float32)"
      ]
     },
     "execution_count": 32,
     "metadata": {},
     "output_type": "execute_result"
    }
   ],
   "source": [
    "model.predict(X_pred)"
   ]
  }
 ],
 "metadata": {
  "kernelspec": {
   "display_name": "Python 3",
   "language": "python",
   "name": "python3"
  },
  "language_info": {
   "codemirror_mode": {
    "name": "ipython",
    "version": 3
   },
   "file_extension": ".py",
   "mimetype": "text/x-python",
   "name": "python",
   "nbconvert_exporter": "python",
   "pygments_lexer": "ipython3",
   "version": "3.8.3"
  }
 },
 "nbformat": 4,
 "nbformat_minor": 4
}
