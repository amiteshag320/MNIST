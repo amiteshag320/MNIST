{
 "cells": [
  {
   "cell_type": "code",
   "execution_count": 1,
   "metadata": {},
   "outputs": [],
   "source": [
    "import pandas as pd\n",
    "import math\n",
    "import tensorflow as tf\n",
    "from tensorflow import keras\n",
    "from tensorflow.keras.layers import Dense\n",
    "from tensorflow.keras.models import Sequential\n",
    "from tensorflow.keras.layers import Dropout\n",
    "import numpy as np\n",
    "from mlxtend.data import loadlocal_mnist\n",
    "import matplotlib.pyplot as plt\n"
   ]
  },
  {
   "cell_type": "code",
   "execution_count": 2,
   "metadata": {},
   "outputs": [],
   "source": [
    "path_training_images = '/home/amiteshag320/Desktop/workingenv/my-project-env/WEEK3/train-images.idx3-ubyte'\n",
    "path_training_labels = '/home/amiteshag320/Desktop/workingenv/my-project-env/WEEK3/train-labels.idx1-ubyte'\n",
    "\n",
    "path_test_images = '/home/amiteshag320/Desktop/workingenv/my-project-env/WEEK3/t10k-images.idx3-ubyte'\n",
    "path_test_labels = '/home/amiteshag320/Desktop/workingenv/my-project-env/WEEK3/t10k-labels.idx1-ubyte'\n",
    "\n"
   ]
  },
  {
   "cell_type": "code",
   "execution_count": 3,
   "metadata": {
    "scrolled": true
   },
   "outputs": [],
   "source": [
    "X_train, Y_train = loadlocal_mnist(path_training_images,path_training_labels)\n",
    "X_test, Y_test = loadlocal_mnist(path_test_images, path_test_labels)\n",
    "\n"
   ]
  },
  {
   "cell_type": "code",
   "execution_count": 4,
   "metadata": {},
   "outputs": [
    {
     "data": {
      "text/plain": [
       "array([5, 0, 4, ..., 5, 6, 8], dtype=uint8)"
      ]
     },
     "execution_count": 4,
     "metadata": {},
     "output_type": "execute_result"
    }
   ],
   "source": [
    "Y_train"
   ]
  },
  {
   "cell_type": "code",
   "execution_count": 5,
   "metadata": {},
   "outputs": [],
   "source": [
    "X_train=X_train/255\n",
    "X_test=X_test/255"
   ]
  },
  {
   "cell_type": "code",
   "execution_count": 6,
   "metadata": {},
   "outputs": [
    {
     "data": {
      "text/plain": [
       "(60000, 784)"
      ]
     },
     "execution_count": 6,
     "metadata": {},
     "output_type": "execute_result"
    }
   ],
   "source": [
    "num_classes = 10 # from 0 to 9\n",
    "Y_train = keras.utils.to_categorical(Y_train,num_classes)\n",
    "Y_test = keras.utils.to_categorical(Y_test,num_classes)\n",
    "X_train.shape"
   ]
  },
  {
   "cell_type": "code",
   "execution_count": 7,
   "metadata": {},
   "outputs": [
    {
     "name": "stdout",
     "output_type": "stream",
     "text": [
      "Model: \"sequential\"\n",
      "_________________________________________________________________\n",
      "Layer (type)                 Output Shape              Param #   \n",
      "=================================================================\n",
      "dense (Dense)                (None, 256)               200960    \n",
      "_________________________________________________________________\n",
      "dropout (Dropout)            (None, 256)               0         \n",
      "_________________________________________________________________\n",
      "dense_1 (Dense)              (None, 128)               32896     \n",
      "_________________________________________________________________\n",
      "dropout_1 (Dropout)          (None, 128)               0         \n",
      "_________________________________________________________________\n",
      "dense_2 (Dense)              (None, 64)                8256      \n",
      "_________________________________________________________________\n",
      "dropout_2 (Dropout)          (None, 64)                0         \n",
      "_________________________________________________________________\n",
      "dense_3 (Dense)              (None, 32)                2080      \n",
      "_________________________________________________________________\n",
      "dense_4 (Dense)              (None, 10)                330       \n",
      "=================================================================\n",
      "Total params: 244,522\n",
      "Trainable params: 244,522\n",
      "Non-trainable params: 0\n",
      "_________________________________________________________________\n"
     ]
    }
   ],
   "source": [
    "model = Sequential()\n",
    "\n",
    "model.add(Dense(units=256, activation='relu',input_shape=(784,)))\n",
    "model.add(Dropout(0.2))\n",
    "model.add(Dense(units=128, activation='relu'))\n",
    "model.add(Dropout(0.2))\n",
    "model.add(Dense(units=64, activation='relu'))\n",
    "model.add(Dropout(0.2))\n",
    "model.add(Dense(units=32, activation='relu'))\n",
    "\n",
    "model.add(Dense(units=10, activation='softmax'))\n",
    "model.summary()"
   ]
  },
  {
   "cell_type": "code",
   "execution_count": 22,
   "metadata": {},
   "outputs": [
    {
     "name": "stdout",
     "output_type": "stream",
     "text": [
      "Epoch 1/20\n",
      "422/422 [==============================] - 6s 15ms/step - loss: 0.4687 - accuracy: 0.8590 - val_loss: 0.1325 - val_accuracy: 0.9628\n",
      "Epoch 2/20\n",
      "422/422 [==============================] - 6s 13ms/step - loss: 0.1815 - accuracy: 0.9473 - val_loss: 0.0874 - val_accuracy: 0.9740\n",
      "Epoch 3/20\n",
      "422/422 [==============================] - 6s 15ms/step - loss: 0.1347 - accuracy: 0.9608 - val_loss: 0.0801 - val_accuracy: 0.9750\n",
      "Epoch 4/20\n",
      "422/422 [==============================] - 6s 13ms/step - loss: 0.1068 - accuracy: 0.9685 - val_loss: 0.0790 - val_accuracy: 0.9762\n",
      "Epoch 5/20\n",
      "422/422 [==============================] - 6s 13ms/step - loss: 0.0923 - accuracy: 0.9730 - val_loss: 0.0705 - val_accuracy: 0.9798\n",
      "Epoch 6/20\n",
      "422/422 [==============================] - 5s 12ms/step - loss: 0.0788 - accuracy: 0.9761 - val_loss: 0.0686 - val_accuracy: 0.9802\n",
      "Epoch 7/20\n",
      "422/422 [==============================] - 5s 11ms/step - loss: 0.0697 - accuracy: 0.9793 - val_loss: 0.0701 - val_accuracy: 0.9798\n",
      "Epoch 8/20\n",
      "422/422 [==============================] - 5s 12ms/step - loss: 0.0654 - accuracy: 0.9802 - val_loss: 0.0607 - val_accuracy: 0.9833\n",
      "Epoch 9/20\n",
      "422/422 [==============================] - 5s 11ms/step - loss: 0.0548 - accuracy: 0.9831 - val_loss: 0.0629 - val_accuracy: 0.9818\n",
      "Epoch 10/20\n",
      "422/422 [==============================] - 5s 13ms/step - loss: 0.0549 - accuracy: 0.9833 - val_loss: 0.0677 - val_accuracy: 0.9822\n",
      "Epoch 11/20\n",
      "422/422 [==============================] - 5s 12ms/step - loss: 0.0508 - accuracy: 0.9848 - val_loss: 0.0585 - val_accuracy: 0.9833\n",
      "Epoch 12/20\n",
      "422/422 [==============================] - 5s 12ms/step - loss: 0.0447 - accuracy: 0.9862 - val_loss: 0.0625 - val_accuracy: 0.9833\n",
      "Epoch 13/20\n",
      "422/422 [==============================] - 5s 13ms/step - loss: 0.0399 - accuracy: 0.9874 - val_loss: 0.0719 - val_accuracy: 0.9822\n",
      "Epoch 14/20\n",
      "422/422 [==============================] - 5s 12ms/step - loss: 0.0408 - accuracy: 0.9881 - val_loss: 0.0631 - val_accuracy: 0.9820\n",
      "Epoch 15/20\n",
      "422/422 [==============================] - 5s 13ms/step - loss: 0.0388 - accuracy: 0.9882 - val_loss: 0.0630 - val_accuracy: 0.9842\n",
      "Epoch 16/20\n",
      "422/422 [==============================] - 5s 11ms/step - loss: 0.0359 - accuracy: 0.9890 - val_loss: 0.0590 - val_accuracy: 0.9845\n",
      "Epoch 17/20\n",
      "422/422 [==============================] - 6s 14ms/step - loss: 0.0318 - accuracy: 0.9898 - val_loss: 0.0757 - val_accuracy: 0.9810\n",
      "Epoch 18/20\n",
      "422/422 [==============================] - 5s 11ms/step - loss: 0.0328 - accuracy: 0.9899 - val_loss: 0.0729 - val_accuracy: 0.9827\n",
      "Epoch 19/20\n",
      "422/422 [==============================] - 7s 17ms/step - loss: 0.0300 - accuracy: 0.9909 - val_loss: 0.0765 - val_accuracy: 0.9830\n",
      "Epoch 20/20\n",
      "422/422 [==============================] - 6s 14ms/step - loss: 0.0315 - accuracy: 0.9906 - val_loss: 0.0617 - val_accuracy: 0.9865\n"
     ]
    }
   ],
   "source": [
    "model.compile(\n",
    "\n",
    "  optimizer='adam',\n",
    "\n",
    "  loss='categorical_crossentropy',\n",
    "\n",
    "  metrics=['accuracy']\n",
    "\n",
    ")\n",
    "\n",
    "history = model.fit(\n",
    "\n",
    "   x=X_train , y=Y_train,\n",
    "\n",
    "    epochs=20,batch_size=128,validation_split=.1\n",
    "\n",
    "    \n",
    "\n",
    ")"
   ]
  },
  {
   "cell_type": "code",
   "execution_count": 23,
   "metadata": {},
   "outputs": [
    {
     "data": {
      "image/png": "[encoded data removed]",
      "text/plain": [
       "<Figure size 432x288 with 1 Axes>"
      ]
     },
     "metadata": {
      "needs_background": "light"
     },
     "output_type": "display_data"
    }
   ],
   "source": [
    "plt.plot(history.history['accuracy'])\n",
    "plt.plot(history.history['val_accuracy'])\n",
    "plt.title('model accuracy')\n",
    "plt.ylabel('accuracy')\n",
    "plt.xlabel('epoch')\n",
    "plt.legend(['training', 'validation'], loc='best')\n",
    "plt.show()\n"
   ]
  },
  {
   "cell_type": "code",
   "execution_count": 24,
   "metadata": {},
   "outputs": [
    {
     "name": "stdout",
     "output_type": "stream",
     "text": [
      "313/313 - 2s - loss: 0.0712 - accuracy: 0.9823\n"
     ]
    }
   ],
   "source": [
    "test_loss, test_acc = model.evaluate(X_test,  Y_test, verbose=2)"
   ]
  },
  {
   "cell_type": "code",
   "execution_count": null,
   "metadata": {},
   "outputs": [],
   "source": []
  }
 ],
 "metadata": {
  "kernelspec": {
   "display_name": "Python 3",
   "language": "python",
   "name": "python3"
  },
  "language_info": {
   "codemirror_mode": {
    "name": "ipython",
    "version": 3
   },
   "file_extension": ".py",
   "mimetype": "text/x-python",
   "name": "python",
   "nbconvert_exporter": "python",
   "pygments_lexer": "ipython3",
   "version": "3.8.3"
  }
 },
 "nbformat": 4,
 "nbformat_minor": 4
}
